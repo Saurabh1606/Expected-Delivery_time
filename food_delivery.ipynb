{
 "cells": [
  {
   "cell_type": "code",
   "execution_count": 1,
   "metadata": {},
   "outputs": [],
   "source": [
    "import pandas as pd\n",
    "import numpy as np\n"
   ]
  },
  {
   "cell_type": "code",
   "execution_count": 2,
   "metadata": {},
   "outputs": [],
   "source": [
    "train =pd.read_excel(\"C:/Users/Dell/Downloads/datascience/food_delivery/Participants Data/Data_Train.xlsx\")\n",
    "test =pd.read_excel(\"C:/Users/Dell/Downloads/datascience/food_delivery/Participants Data/Data_Test.xlsx\")\n",
    "\n"
   ]
  },
  {
   "cell_type": "code",
   "execution_count": 3,
   "metadata": {},
   "outputs": [],
   "source": [
    "data=train.append(test,sort=False,ignore_index=True)"
   ]
  },
  {
   "cell_type": "code",
   "execution_count": 4,
   "metadata": {},
   "outputs": [
    {
     "data": {
      "text/html": [
       "<div>\n",
       "<style scoped>\n",
       "    .dataframe tbody tr th:only-of-type {\n",
       "        vertical-align: middle;\n",
       "    }\n",
       "\n",
       "    .dataframe tbody tr th {\n",
       "        vertical-align: top;\n",
       "    }\n",
       "\n",
       "    .dataframe thead th {\n",
       "        text-align: right;\n",
       "    }\n",
       "</style>\n",
       "<table border=\"1\" class=\"dataframe\">\n",
       "  <thead>\n",
       "    <tr style=\"text-align: right;\">\n",
       "      <th></th>\n",
       "      <th>Restaurant</th>\n",
       "      <th>Location</th>\n",
       "      <th>Cuisines</th>\n",
       "      <th>Average_Cost</th>\n",
       "      <th>Minimum_Order</th>\n",
       "      <th>Rating</th>\n",
       "      <th>Votes</th>\n",
       "      <th>Reviews</th>\n",
       "      <th>Delivery_Time</th>\n",
       "    </tr>\n",
       "  </thead>\n",
       "  <tbody>\n",
       "    <tr>\n",
       "      <th>0</th>\n",
       "      <td>ID_6321</td>\n",
       "      <td>FTI College, Law College Road, Pune</td>\n",
       "      <td>Fast Food, Rolls, Burger, Salad, Wraps</td>\n",
       "      <td>₹200</td>\n",
       "      <td>₹50</td>\n",
       "      <td>3.5</td>\n",
       "      <td>12</td>\n",
       "      <td>4</td>\n",
       "      <td>30 minutes</td>\n",
       "    </tr>\n",
       "    <tr>\n",
       "      <th>1</th>\n",
       "      <td>ID_2882</td>\n",
       "      <td>Sector 3, Marathalli</td>\n",
       "      <td>Ice Cream, Desserts</td>\n",
       "      <td>₹100</td>\n",
       "      <td>₹50</td>\n",
       "      <td>3.5</td>\n",
       "      <td>11</td>\n",
       "      <td>4</td>\n",
       "      <td>30 minutes</td>\n",
       "    </tr>\n",
       "    <tr>\n",
       "      <th>2</th>\n",
       "      <td>ID_1595</td>\n",
       "      <td>Mumbai Central</td>\n",
       "      <td>Italian, Street Food, Fast Food</td>\n",
       "      <td>₹150</td>\n",
       "      <td>₹50</td>\n",
       "      <td>3.6</td>\n",
       "      <td>99</td>\n",
       "      <td>30</td>\n",
       "      <td>65 minutes</td>\n",
       "    </tr>\n",
       "    <tr>\n",
       "      <th>3</th>\n",
       "      <td>ID_5929</td>\n",
       "      <td>Sector 1, Noida</td>\n",
       "      <td>Mughlai, North Indian, Chinese</td>\n",
       "      <td>₹250</td>\n",
       "      <td>₹99</td>\n",
       "      <td>3.7</td>\n",
       "      <td>176</td>\n",
       "      <td>95</td>\n",
       "      <td>30 minutes</td>\n",
       "    </tr>\n",
       "    <tr>\n",
       "      <th>4</th>\n",
       "      <td>ID_6123</td>\n",
       "      <td>Rmz Centennial, I Gate, Whitefield</td>\n",
       "      <td>Cafe, Beverages</td>\n",
       "      <td>₹200</td>\n",
       "      <td>₹99</td>\n",
       "      <td>3.2</td>\n",
       "      <td>521</td>\n",
       "      <td>235</td>\n",
       "      <td>65 minutes</td>\n",
       "    </tr>\n",
       "  </tbody>\n",
       "</table>\n",
       "</div>"
      ],
      "text/plain": [
       "  Restaurant                             Location  \\\n",
       "0    ID_6321  FTI College, Law College Road, Pune   \n",
       "1    ID_2882                 Sector 3, Marathalli   \n",
       "2    ID_1595                       Mumbai Central   \n",
       "3    ID_5929                      Sector 1, Noida   \n",
       "4    ID_6123   Rmz Centennial, I Gate, Whitefield   \n",
       "\n",
       "                                 Cuisines Average_Cost Minimum_Order Rating  \\\n",
       "0  Fast Food, Rolls, Burger, Salad, Wraps         ₹200           ₹50    3.5   \n",
       "1                     Ice Cream, Desserts         ₹100           ₹50    3.5   \n",
       "2         Italian, Street Food, Fast Food         ₹150           ₹50    3.6   \n",
       "3          Mughlai, North Indian, Chinese         ₹250           ₹99    3.7   \n",
       "4                         Cafe, Beverages         ₹200           ₹99    3.2   \n",
       "\n",
       "  Votes Reviews Delivery_Time  \n",
       "0    12       4    30 minutes  \n",
       "1    11       4    30 minutes  \n",
       "2    99      30    65 minutes  \n",
       "3   176      95    30 minutes  \n",
       "4   521     235    65 minutes  "
      ]
     },
     "execution_count": 4,
     "metadata": {},
     "output_type": "execute_result"
    }
   ],
   "source": [
    "data.head()"
   ]
  },
  {
   "cell_type": "code",
   "execution_count": 5,
   "metadata": {},
   "outputs": [
    {
     "data": {
      "text/plain": [
       "Restaurant          0\n",
       "Location            0\n",
       "Cuisines            0\n",
       "Average_Cost        0\n",
       "Minimum_Order       0\n",
       "Rating              0\n",
       "Votes               0\n",
       "Reviews             0\n",
       "Delivery_Time    2774\n",
       "dtype: int64"
      ]
     },
     "execution_count": 5,
     "metadata": {},
     "output_type": "execute_result"
    }
   ],
   "source": [
    "data.isnull().sum()"
   ]
  },
  {
   "cell_type": "code",
   "execution_count": 6,
   "metadata": {},
   "outputs": [
    {
     "data": {
      "text/plain": [
       "Restaurant       8661\n",
       "Location           35\n",
       "Cuisines         2392\n",
       "Average_Cost       26\n",
       "Minimum_Order      20\n",
       "Rating             33\n",
       "Votes            1181\n",
       "Reviews           811\n",
       "Delivery_Time       7\n",
       "dtype: int64"
      ]
     },
     "execution_count": 6,
     "metadata": {},
     "output_type": "execute_result"
    }
   ],
   "source": [
    "data.nunique()"
   ]
  },
  {
   "cell_type": "code",
   "execution_count": 7,
   "metadata": {},
   "outputs": [
    {
     "name": "stdout",
     "output_type": "stream",
     "text": [
      "<class 'pandas.core.frame.DataFrame'>\n",
      "RangeIndex: 13868 entries, 0 to 13867\n",
      "Data columns (total 9 columns):\n",
      " #   Column         Non-Null Count  Dtype \n",
      "---  ------         --------------  ----- \n",
      " 0   Restaurant     13868 non-null  object\n",
      " 1   Location       13868 non-null  object\n",
      " 2   Cuisines       13868 non-null  object\n",
      " 3   Average_Cost   13868 non-null  object\n",
      " 4   Minimum_Order  13868 non-null  object\n",
      " 5   Rating         13868 non-null  object\n",
      " 6   Votes          13868 non-null  object\n",
      " 7   Reviews        13868 non-null  object\n",
      " 8   Delivery_Time  11094 non-null  object\n",
      "dtypes: object(9)\n",
      "memory usage: 975.2+ KB\n"
     ]
    }
   ],
   "source": [
    "data.info()"
   ]
  },
  {
   "cell_type": "code",
   "execution_count": 8,
   "metadata": {},
   "outputs": [
    {
     "data": {
      "text/plain": [
       "30 minutes     7406\n",
       "45 minutes     2665\n",
       "65 minutes      923\n",
       "120 minutes      62\n",
       "20 minutes       20\n",
       "80 minutes       14\n",
       "10 minutes        4\n",
       "Name: Delivery_Time, dtype: int64"
      ]
     },
     "execution_count": 8,
     "metadata": {},
     "output_type": "execute_result"
    }
   ],
   "source": [
    "data['Delivery_Time'].value_counts()"
   ]
  },
  {
   "cell_type": "code",
   "execution_count": 9,
   "metadata": {},
   "outputs": [],
   "source": [
    "data['Cuisines']=data['Cuisines'].str.lower()"
   ]
  },
  {
   "cell_type": "code",
   "execution_count": 10,
   "metadata": {},
   "outputs": [],
   "source": [
    "data['Cuisines']=data['Cuisines'].str.replace(' ','')\n"
   ]
  },
  {
   "cell_type": "code",
   "execution_count": 11,
   "metadata": {},
   "outputs": [
    {
     "data": {
      "text/plain": [
       "0                 fastfood,rolls,burger,salad,wraps\n",
       "1                                 icecream,desserts\n",
       "2                       italian,streetfood,fastfood\n",
       "3                       mughlai,northindian,chinese\n",
       "4                                    cafe,beverages\n",
       "                            ...                    \n",
       "13863                              fastfood,chinese\n",
       "13864    continental,northindian,desserts,beverages\n",
       "13865                            andhra,southindian\n",
       "13866                                        bakery\n",
       "13867                   italian,streetfood,fastfood\n",
       "Name: Cuisines, Length: 13868, dtype: object"
      ]
     },
     "execution_count": 11,
     "metadata": {},
     "output_type": "execute_result"
    }
   ],
   "source": [
    "data['Cuisines']"
   ]
  },
  {
   "cell_type": "code",
   "execution_count": 12,
   "metadata": {},
   "outputs": [],
   "source": [
    "Cuisines_list=data['Cuisines'].str.split(',')"
   ]
  },
  {
   "cell_type": "code",
   "execution_count": 13,
   "metadata": {},
   "outputs": [
    {
     "data": {
      "text/plain": [
       "0                [fastfood, rolls, burger, salad, wraps]\n",
       "1                                   [icecream, desserts]\n",
       "2                        [italian, streetfood, fastfood]\n",
       "3                        [mughlai, northindian, chinese]\n",
       "4                                      [cafe, beverages]\n",
       "                              ...                       \n",
       "13863                                [fastfood, chinese]\n",
       "13864    [continental, northindian, desserts, beverages]\n",
       "13865                              [andhra, southindian]\n",
       "13866                                           [bakery]\n",
       "13867                    [italian, streetfood, fastfood]\n",
       "Name: Cuisines, Length: 13868, dtype: object"
      ]
     },
     "execution_count": 13,
     "metadata": {},
     "output_type": "execute_result"
    }
   ],
   "source": [
    "Cuisines_list"
   ]
  },
  {
   "cell_type": "code",
   "execution_count": 14,
   "metadata": {},
   "outputs": [],
   "source": [
    "from collections import Counter\n",
    "Cuisines_counter=Counter(([a for b in Cuisines_list.tolist() for a in b]))"
   ]
  },
  {
   "cell_type": "code",
   "execution_count": 15,
   "metadata": {},
   "outputs": [
    {
     "data": {
      "text/plain": [
       "Counter({'fastfood': 3862,\n",
       "         'rolls': 620,\n",
       "         'burger': 414,\n",
       "         'salad': 284,\n",
       "         'wraps': 97,\n",
       "         'icecream': 480,\n",
       "         'desserts': 1548,\n",
       "         'italian': 751,\n",
       "         'streetfood': 935,\n",
       "         'mughlai': 1098,\n",
       "         'northindian': 5999,\n",
       "         'chinese': 4339,\n",
       "         'cafe': 592,\n",
       "         'beverages': 1789,\n",
       "         'southindian': 1507,\n",
       "         'thai': 205,\n",
       "         'asian': 259,\n",
       "         'mithai': 386,\n",
       "         'momos': 397,\n",
       "         'indonesian': 3,\n",
       "         'biryani': 1161,\n",
       "         'kerala': 73,\n",
       "         'bihari': 14,\n",
       "         'mexican': 143,\n",
       "         'japanese': 72,\n",
       "         'bakery': 864,\n",
       "         'burmese': 13,\n",
       "         'bubbletea': 6,\n",
       "         'tea': 87,\n",
       "         'pizza': 611,\n",
       "         'lucknowi': 15,\n",
       "         'mangalorean': 27,\n",
       "         'european': 89,\n",
       "         'continental': 694,\n",
       "         'sandwich': 339,\n",
       "         'healthyfood': 352,\n",
       "         'bengali': 132,\n",
       "         'american': 163,\n",
       "         'mishti': 82,\n",
       "         'hyderabadi': 85,\n",
       "         'andhra': 111,\n",
       "         'assamese': 4,\n",
       "         'maharashtrian': 135,\n",
       "         'german': 9,\n",
       "         'arabian': 82,\n",
       "         'fingerfood': 67,\n",
       "         'kebab': 214,\n",
       "         'chettinad': 14,\n",
       "         'seafood': 246,\n",
       "         'juices': 198,\n",
       "         'parsi': 15,\n",
       "         'sushi': 50,\n",
       "         'odia': 21,\n",
       "         'tamil': 3,\n",
       "         'cantonese': 2,\n",
       "         'northeastern': 29,\n",
       "         'tibetan': 47,\n",
       "         'lebanese': 120,\n",
       "         'spanish': 4,\n",
       "         'barfood': 25,\n",
       "         'konkan': 6,\n",
       "         'paan': 34,\n",
       "         'steak': 22,\n",
       "         'mediterranean': 32,\n",
       "         'bohri': 1,\n",
       "         'afghan': 24,\n",
       "         'goan': 11,\n",
       "         'gujarati': 12,\n",
       "         'bbq': 61,\n",
       "         'rawmeats': 16,\n",
       "         'malaysian': 16,\n",
       "         'vietnamese': 18,\n",
       "         'srilankan': 1,\n",
       "         'rajasthani': 35,\n",
       "         'poké': 10,\n",
       "         'roastchicken': 5,\n",
       "         'coffee': 53,\n",
       "         'brazilian': 6,\n",
       "         'belgian': 5,\n",
       "         'naga': 8,\n",
       "         'korean': 20,\n",
       "         'modernindian': 25,\n",
       "         'awadhi': 15,\n",
       "         'kashmiri': 11,\n",
       "         'french': 8,\n",
       "         'portuguese': 3,\n",
       "         'charcoalchicken': 3,\n",
       "         'frozenyogurt': 5,\n",
       "         'bangladeshi': 5,\n",
       "         'malwani': 20,\n",
       "         'iranian': 10,\n",
       "         'nepalese': 3,\n",
       "         'indian': 4,\n",
       "         'tex-mex': 4,\n",
       "         'hotdogs': 4,\n",
       "         'southamerican': 3,\n",
       "         'middleeastern': 6,\n",
       "         'african': 2,\n",
       "         'turkish': 9,\n",
       "         'israeli': 2,\n",
       "         'greek': 1})"
      ]
     },
     "execution_count": 15,
     "metadata": {},
     "output_type": "execute_result"
    }
   ],
   "source": [
    "Cuisines_counter"
   ]
  },
  {
   "cell_type": "code",
   "execution_count": 16,
   "metadata": {},
   "outputs": [],
   "source": [
    "data['Cuisines'] = data['Cuisines'].str.replace('rolls','fastfood')\n",
    "data['Cuisines'] = data['Cuisines'].str.replace('burger','fastfood')\n",
    "data['Cuisines'] = data['Cuisines'].str.replace('wraps','fastfood')\n",
    "data['Cuisines'] = data['Cuisines'].str.replace('streetfood','fastfood')\n",
    "data['Cuisines'] = data['Cuisines'].str.replace('momos','fastfood')\n",
    "data['Cuisines'] = data['Cuisines'].str.replace('sandwich','fastfood')\n",
    "data['Cuisines'] = data['Cuisines'].str.replace('fingerfood','fastfood')\n",
    "data['Cuisines'] = data['Cuisines'].str.replace('barfood','fastfood')\n",
    "data['Cuisines'] = data['Cuisines'].str.replace('rawmeats','fastfood')\n",
    "data['Cuisines'] = data['Cuisines'].str.replace('hotdogs','fastfood')\n",
    "data['Cuisines'] = data['Cuisines'].str.replace('cafe','fastfood')\n",
    "data['Cuisines'] = data['Cuisines'].str.replace('pizza','fastfood')\n",
    "\n",
    "data['Cuisines'] = data['Cuisines'].str.replace('icecream','desserts')\n",
    "data['Cuisines'] = data['Cuisines'].str.replace('mithai','desserts')\n",
    "data['Cuisines'] = data['Cuisines'].str.replace('bakery','desserts')\n",
    "data['Cuisines'] = data['Cuisines'].str.replace('bubbletea','desserts')\n",
    "data['Cuisines'] = data['Cuisines'].str.replace('mishti','desserts')\n",
    "data['Cuisines'] = data['Cuisines'].str.replace('paan','desserts')\n",
    "data['Cuisines'] = data['Cuisines'].str.replace('frozenyogurt','desserts')\n",
    "\n",
    "data['Cuisines'] = data['Cuisines'].str.replace('italian','european')\n",
    "data['Cuisines'] = data['Cuisines'].str.replace('german','european')\n",
    "data['Cuisines'] = data['Cuisines'].str.replace('spanish','european')\n",
    "data['Cuisines'] = data['Cuisines'].str.replace('steak','european')\n",
    "data['Cuisines'] = data['Cuisines'].str.replace('mediterranean','european')\n",
    "data['Cuisines'] = data['Cuisines'].str.replace('brazilian','european')\n",
    "data['Cuisines'] = data['Cuisines'].str.replace('belgian','european')\n",
    "data['Cuisines'] = data['Cuisines'].str.replace('french','european')\n",
    "data['Cuisines'] = data['Cuisines'].str.replace('portuguese','european')\n",
    "data['Cuisines'] = data['Cuisines'].str.replace('african','european')\n",
    "data['Cuisines'] = data['Cuisines'].str.replace('greek','european')\n",
    "\n",
    "data['Cuisines'] = data['Cuisines'].str.replace('mexican','american')\n",
    "data['Cuisines'] = data['Cuisines'].str.replace('bbq','american')\n",
    "data['Cuisines'] = data['Cuisines'].str.replace('roastchicken','american')\n",
    "data['Cuisines'] = data['Cuisines'].str.replace('charcoalchicken','american')\n",
    "data['Cuisines'] = data['Cuisines'].str.replace('tex-mex','american')\n",
    "data['Cuisines'] = data['Cuisines'].str.replace('southamerican','american')\n",
    "\n",
    "data['Cuisines'] = data['Cuisines'].str.replace('arabian','middleeast')\n",
    "data['Cuisines'] = data['Cuisines'].str.replace('kebab','middleeast')\n",
    "data['Cuisines'] = data['Cuisines'].str.replace('lebanese','middleeast')\n",
    "data['Cuisines'] = data['Cuisines'].str.replace('afghan','middleeast')\n",
    "data['Cuisines'] = data['Cuisines'].str.replace('iranian','middleeast')\n",
    "data['Cuisines'] = data['Cuisines'].str.replace('middleeastern','middleeast')\n",
    "data['Cuisines'] = data['Cuisines'].str.replace('turkish','middleeast')\n",
    "data['Cuisines'] = data['Cuisines'].str.replace('israeli','middleeast')\n",
    "\n",
    "data['Cuisines'] = data['Cuisines'].str.replace('chinese','chinese')\n",
    "\n",
    "data['Cuisines'] = data['Cuisines'].str.replace('kerala','regional')\n",
    "data['Cuisines'] = data['Cuisines'].str.replace('bihari','regional')\n",
    "data['Cuisines'] = data['Cuisines'].str.replace('Lucknowi','regional')\n",
    "data['Cuisines'] = data['Cuisines'].str.replace('mangalorean','regional')\n",
    "data['Cuisines'] = data['Cuisines'].str.replace('bengali','regional')\n",
    "data['Cuisines'] = data['Cuisines'].str.replace('andhra','regional')\n",
    "data['Cuisines'] = data['Cuisines'].str.replace('assamese','regional')\n",
    "data['Cuisines'] = data['Cuisines'].str.replace('maharashtrian','regional')\n",
    "data['Cuisines'] = data['Cuisines'].str.replace('chettinad','regional')\n",
    "data['Cuisines'] = data['Cuisines'].str.replace('parsi','regional')\n",
    "data['Cuisines'] = data['Cuisines'].str.replace('odia','regional')\n",
    "data['Cuisines'] = data['Cuisines'].str.replace('tamil','regional')\n",
    "data['Cuisines'] = data['Cuisines'].str.replace('northeastern','regional')\n",
    "data['Cuisines'] = data['Cuisines'].str.replace('bohri','regional')\n",
    "data['Cuisines'] = data['Cuisines'].str.replace('goan','regional')\n",
    "data['Cuisines'] = data['Cuisines'].str.replace('gujarati','regional')\n",
    "data['Cuisines'] = data['Cuisines'].str.replace('rajasthani','regional')\n",
    "data['Cuisines'] = data['Cuisines'].str.replace('naga','regional')\n",
    "data['Cuisines'] = data['Cuisines'].str.replace('awadhi','regional')\n",
    "data['Cuisines'] = data['Cuisines'].str.replace('kashmiri','regional')\n",
    "data['Cuisines'] = data['Cuisines'].str.replace('malwani','regional')\n",
    "\n",
    "data['Cuisines'] = data['Cuisines'].str.replace('thai','seafood')\n",
    "data['Cuisines'] = data['Cuisines'].str.replace('konkan','seafood')\n",
    "data['Cuisines'] = data['Cuisines'].str.replace('srilankan','seafood')\n",
    "data['Cuisines'] = data['Cuisines'].str.replace('poké','seafood')\n",
    "\n",
    "#data['Cuisines'] = data['Cuisines'].str.replace('thai','asian')\n",
    "data['Cuisines'] = data['Cuisines'].str.replace('indonesian','asian')\n",
    "data['Cuisines'] = data['Cuisines'].str.replace('japanese','asian')\n",
    "data['Cuisines'] = data['Cuisines'].str.replace('burmese','asian')\n",
    "data['Cuisines'] = data['Cuisines'].str.replace('sushi','asian')\n",
    "data['Cuisines'] = data['Cuisines'].str.replace('cantonese','asian')\n",
    "data['Cuisines'] = data['Cuisines'].str.replace('tibetan','asian')\n",
    "data['Cuisines'] = data['Cuisines'].str.replace('malaysian','asian')\n",
    "data['Cuisines'] = data['Cuisines'].str.replace('vietnamese','asian')\n",
    "data['Cuisines'] = data['Cuisines'].str.replace('korean','asian')\n",
    "data['Cuisines'] = data['Cuisines'].str.replace('bangladeshi','asian')\n",
    "data['Cuisines'] = data['Cuisines'].str.replace('nepalese','asian')\n",
    "\n",
    "\n",
    "data['Cuisines'] = data['Cuisines'].str.replace('tea','beverages')\n",
    "data['Cuisines'] = data['Cuisines'].str.replace('juices','beverages')\n",
    "data['Cuisines'] = data['Cuisines'].str.replace('coffee','beverages')\n",
    "\n",
    "data['Cuisines'] = data['Cuisines'].str.replace('hyderabadi','biryani')\n",
    "data['Cuisines'] = data['Cuisines'].str.replace('lucknowi','biryani')\n",
    "\n",
    "data['Cuisines'] = data['Cuisines'].str.replace('indian','northindian')\n",
    "data['Cuisines'] = data['Cuisines'].str.replace('modernindian','northindian')\n",
    "data['Cuisines'] = data['Cuisines'].str.replace('modernnorthindian','northindian')\n",
    "data['Cuisines'] = data['Cuisines'].str.replace('northindian','northindian')\n",
    "data['Cuisines'] = data['Cuisines'].str.replace('northnorthindian','northindian')\n",
    "\n",
    "\n",
    "data['Cuisines'] = data['Cuisines'].str.replace('southnorthindian','southindian')\n",
    "\n",
    "data['Cuisines'] = data['Cuisines'].str.replace('salad','healthyfood')"
   ]
  },
  {
   "cell_type": "code",
   "execution_count": 17,
   "metadata": {},
   "outputs": [
    {
     "data": {
      "text/plain": [
       "0        fastfood,fastfood,fastfood,healthyfood,fastfood\n",
       "1                                      desserts,desserts\n",
       "2                             european,fastfood,fastfood\n",
       "3                            mughlai,northindian,chinese\n",
       "4                                     fastfood,beverages\n",
       "                              ...                       \n",
       "13863                                   fastfood,chinese\n",
       "13864         continental,northindian,desserts,beverages\n",
       "13865                               regional,southindian\n",
       "13866                                           desserts\n",
       "13867                         european,fastfood,fastfood\n",
       "Name: Cuisines, Length: 13868, dtype: object"
      ]
     },
     "execution_count": 17,
     "metadata": {},
     "output_type": "execute_result"
    }
   ],
   "source": [
    "data['Cuisines']"
   ]
  },
  {
   "cell_type": "code",
   "execution_count": 18,
   "metadata": {},
   "outputs": [
    {
     "data": {
      "text/plain": [
       "Counter({'fastfood': 7979,\n",
       "         'healthyfood': 636,\n",
       "         'desserts': 3405,\n",
       "         'european': 932,\n",
       "         'mughlai': 1098,\n",
       "         'northindian': 6028,\n",
       "         'chinese': 4339,\n",
       "         'beverages': 2127,\n",
       "         'southindian': 1507,\n",
       "         'seafood': 468,\n",
       "         'asian': 508,\n",
       "         'biryani': 1261,\n",
       "         'regional': 691,\n",
       "         'american': 382,\n",
       "         'continental': 694,\n",
       "         'middleeast': 467})"
      ]
     },
     "execution_count": 18,
     "metadata": {},
     "output_type": "execute_result"
    }
   ],
   "source": [
    "data['Cuisines'] = data['Cuisines'].str.lower()\n",
    "data['Cuisines'] = data['Cuisines'].str.replace(' ','')\n",
    "Cuisines_list = data['Cuisines'].str.split(',')\n",
    "from collections import Counter\n",
    "Cuisines_counter = Counter(([a for b in Cuisines_list.tolist() for a in b]))\n",
    "Cuisines_counter"
   ]
  },
  {
   "cell_type": "code",
   "execution_count": 19,
   "metadata": {},
   "outputs": [],
   "source": [
    "data['Delivery_Time']=data['Delivery_Time'].str.replace('minutes','')\n",
    "data['Delivery_Time']=pd.to_numeric(data['Delivery_Time'])"
   ]
  },
  {
   "cell_type": "code",
   "execution_count": 20,
   "metadata": {},
   "outputs": [],
   "source": [
    "\n",
    "data['City']=data.Location.str.rpartition(',')[2]\n",
    "data['Locality']=data.Location.str.rpartition(',')[0]"
   ]
  },
  {
   "cell_type": "code",
   "execution_count": null,
   "metadata": {},
   "outputs": [],
   "source": []
  },
  {
   "cell_type": "code",
   "execution_count": 21,
   "metadata": {},
   "outputs": [
    {
     "name": "stderr",
     "output_type": "stream",
     "text": [
      "C:\\Users\\Dell\\Anaconda3\\envs\\tensorflow\\lib\\site-packages\\ipykernel_launcher.py:1: SettingWithCopyWarning: \n",
      "A value is trying to be set on a copy of a slice from a DataFrame\n",
      "\n",
      "See the caveats in the documentation: https://pandas.pydata.org/pandas-docs/stable/user_guide/indexing.html#returning-a-view-versus-a-copy\n",
      "  \"\"\"Entry point for launching an IPython kernel.\n",
      "C:\\Users\\Dell\\Anaconda3\\envs\\tensorflow\\lib\\site-packages\\ipykernel_launcher.py:2: SettingWithCopyWarning: \n",
      "A value is trying to be set on a copy of a slice from a DataFrame\n",
      "\n",
      "See the caveats in the documentation: https://pandas.pydata.org/pandas-docs/stable/user_guide/indexing.html#returning-a-view-versus-a-copy\n",
      "  \n",
      "C:\\Users\\Dell\\Anaconda3\\envs\\tensorflow\\lib\\site-packages\\ipykernel_launcher.py:3: SettingWithCopyWarning: \n",
      "A value is trying to be set on a copy of a slice from a DataFrame\n",
      "\n",
      "See the caveats in the documentation: https://pandas.pydata.org/pandas-docs/stable/user_guide/indexing.html#returning-a-view-versus-a-copy\n",
      "  This is separate from the ipykernel package so we can avoid doing imports until\n",
      "C:\\Users\\Dell\\Anaconda3\\envs\\tensorflow\\lib\\site-packages\\ipykernel_launcher.py:4: SettingWithCopyWarning: \n",
      "A value is trying to be set on a copy of a slice from a DataFrame\n",
      "\n",
      "See the caveats in the documentation: https://pandas.pydata.org/pandas-docs/stable/user_guide/indexing.html#returning-a-view-versus-a-copy\n",
      "  after removing the cwd from sys.path.\n",
      "C:\\Users\\Dell\\Anaconda3\\envs\\tensorflow\\lib\\site-packages\\ipykernel_launcher.py:5: SettingWithCopyWarning: \n",
      "A value is trying to be set on a copy of a slice from a DataFrame\n",
      "\n",
      "See the caveats in the documentation: https://pandas.pydata.org/pandas-docs/stable/user_guide/indexing.html#returning-a-view-versus-a-copy\n",
      "  \"\"\"\n",
      "C:\\Users\\Dell\\Anaconda3\\envs\\tensorflow\\lib\\site-packages\\ipykernel_launcher.py:6: SettingWithCopyWarning: \n",
      "A value is trying to be set on a copy of a slice from a DataFrame\n",
      "\n",
      "See the caveats in the documentation: https://pandas.pydata.org/pandas-docs/stable/user_guide/indexing.html#returning-a-view-versus-a-copy\n",
      "  \n",
      "C:\\Users\\Dell\\Anaconda3\\envs\\tensorflow\\lib\\site-packages\\ipykernel_launcher.py:7: SettingWithCopyWarning: \n",
      "A value is trying to be set on a copy of a slice from a DataFrame\n",
      "\n",
      "See the caveats in the documentation: https://pandas.pydata.org/pandas-docs/stable/user_guide/indexing.html#returning-a-view-versus-a-copy\n",
      "  import sys\n",
      "C:\\Users\\Dell\\Anaconda3\\envs\\tensorflow\\lib\\site-packages\\ipykernel_launcher.py:8: SettingWithCopyWarning: \n",
      "A value is trying to be set on a copy of a slice from a DataFrame\n",
      "\n",
      "See the caveats in the documentation: https://pandas.pydata.org/pandas-docs/stable/user_guide/indexing.html#returning-a-view-versus-a-copy\n",
      "  \n",
      "C:\\Users\\Dell\\Anaconda3\\envs\\tensorflow\\lib\\site-packages\\ipykernel_launcher.py:9: SettingWithCopyWarning: \n",
      "A value is trying to be set on a copy of a slice from a DataFrame\n",
      "\n",
      "See the caveats in the documentation: https://pandas.pydata.org/pandas-docs/stable/user_guide/indexing.html#returning-a-view-versus-a-copy\n",
      "  if __name__ == '__main__':\n"
     ]
    }
   ],
   "source": [
    "data.City[data.City.str.contains('Delhi University-GTB Nagar')]='Delhi'\n",
    "data.City[data.City.str.contains('Mumbai CST Area')]='Mumbai'\n",
    "data.City[data.City.str.contains('Mumbai Central')]='Mumbai'\n",
    "data.City[data.City.str.contains('India Gate')]='Delhi'\n",
    "data.City[data.City.str.contains('Delhi Cantt.')]='Delhi'\n",
    "data.City[data.City.str.contains('Maharashtra')]='Pune'\n",
    "data.City[data.City.str.contains('Pune University')]='Pune'\n",
    "data.City[data.City.str.contains('Gurgoan')]='Gurgaon'\n",
    "data.City[data.City.str.contains('Electronic City')]='Bangalore'\n",
    "\n",
    "# data.City[data.City.str.contains('Whitefield')]='Bangalore'\n",
    "# data.City[data.City.str.contains('Marathalli')]='Bangalore'\n",
    "\n",
    "data['City'] = data['City'].str.strip()\n",
    "data['City'] = data['City'].str.lower()\n",
    "del data['Location']"
   ]
  },
  {
   "cell_type": "code",
   "execution_count": 22,
   "metadata": {},
   "outputs": [],
   "source": [
    "data1=data.copy()"
   ]
  },
  {
   "cell_type": "code",
   "execution_count": 23,
   "metadata": {},
   "outputs": [],
   "source": [
    "data['Average_Cost']=data['Average_Cost'].str.replace(\"[^0-9]\",\"\")\n",
    "data['Average_Cost']=data['Average_Cost'].str.strip()\n",
    "data['Average_Cost']=pd.to_numeric(data['Average_Cost'])\n",
    "data['Minimum_Order'] = data['Minimum_Order'].str.replace(\"[^0-9]\",\"\")\n",
    "data['Minimum_Order'] = data['Minimum_Order'].str.strip()\n",
    "data['Minimum_Order']=pd.to_numeric(data['Minimum_Order'])"
   ]
  },
  {
   "cell_type": "code",
   "execution_count": 24,
   "metadata": {},
   "outputs": [],
   "source": [
    "data.Rating=data.Rating.replace(\"NEW\",np.nan)\n",
    "data.Rating=data.Rating.replace(\"-\",np.nan)\n",
    "data.Rating=data.Rating.replace(\"Opening Soon\",np.nan)\n",
    "data.Rating=data.Rating.replace(\"Temporarily Closed\",np.nan)\n",
    "data.Rating=data.Rating.astype('float')"
   ]
  },
  {
   "cell_type": "code",
   "execution_count": 25,
   "metadata": {},
   "outputs": [],
   "source": [
    "data.Votes = data.Votes.replace(\"-\",np.nan)\n",
    "data.Votes = data.Votes.astype('float')\n",
    "data.Reviews = data.Reviews.replace(\"-\",np.nan)\n",
    "data.Reviews = data.Reviews.astype('float')"
   ]
  },
  {
   "cell_type": "code",
   "execution_count": 26,
   "metadata": {},
   "outputs": [
    {
     "data": {
      "text/plain": [
       "(13868, 10)"
      ]
     },
     "execution_count": 26,
     "metadata": {},
     "output_type": "execute_result"
    }
   ],
   "source": [
    "data.shape"
   ]
  },
  {
   "cell_type": "code",
   "execution_count": 27,
   "metadata": {},
   "outputs": [],
   "source": [
    "data['total_div_of_reviews'] = data['Votes']/data['Reviews']\n",
    "data['total_sum_of_reviews'] = data['Votes']*data['Reviews']\n",
    "\n",
    "data['total_div_of_ratings'] = data['Votes']/data['Rating']\n",
    "data['total_sum_of_ratings'] = data['Votes']*data['Rating']\n",
    "\n",
    "data['total_div_of_Minimum_Order'] = data['Votes']/data['Minimum_Order']\n",
    "data['total_sum_of_Minimum_Order'] = data['Votes']*data['Minimum_Order']\n",
    "\n",
    "data['total_div_of_Average_Cost'] = data['Votes']/data['Average_Cost']\n",
    "data['total_sum_of_Average_Cost'] = data['Votes']*data['Average_Cost']\n",
    "\n",
    "data['total_div_of_ratings_Reviews'] = data['Rating']/data['Reviews']\n",
    "data['total_sum_of_ratings_1'] = data['Rating']*data['Reviews']\n",
    "\n",
    "data['total_div_of_Minimum_Order_1'] = data['Rating']/data['Minimum_Order']\n",
    "data['total_sum_of_Minimum_Order_1'] = data['Rating']*data['Minimum_Order']\n",
    "\n",
    "data['total_div_of_Average_Cost_1'] = data['Rating']/data['Average_Cost']\n",
    "data['total_sum_of_Average_Cost_1'] = data['Rating']*data['Average_Cost']\n",
    "\n",
    "data['total_div_of_reviews_Minimum_Order_1'] = data['Reviews']/data['Minimum_Order']\n",
    "data['total_sum_of_reviews_Minimum_Order_1'] = data['Reviews']*data['Minimum_Order']\n",
    "\n",
    "data['total_div_of_reviews_Average_Cost_1'] = data['Reviews']/data['Average_Cost']\n",
    "data['total_sum_of_reviews_Average_Cost_1'] = data['Reviews']*data['Average_Cost']\n",
    "\n",
    "data['total_div_of_Minimum_Order_Average_Cost_1'] = data['Average_Cost']/data['Minimum_Order']\n",
    "data['total_sum_of_Minimum_Order_Average_Cost_1'] = data['Average_Cost']*data['Minimum_Order']"
   ]
  },
  {
   "cell_type": "code",
   "execution_count": 28,
   "metadata": {},
   "outputs": [
    {
     "data": {
      "text/plain": [
       "(13868, 10)"
      ]
     },
     "execution_count": 28,
     "metadata": {},
     "output_type": "execute_result"
    }
   ],
   "source": [
    "data1.shape"
   ]
  },
  {
   "cell_type": "code",
   "execution_count": 29,
   "metadata": {},
   "outputs": [
    {
     "data": {
      "text/plain": [
       "<matplotlib.axes._subplots.AxesSubplot at 0x18af27c69c8>"
      ]
     },
     "execution_count": 29,
     "metadata": {},
     "output_type": "execute_result"
    },
    {
     "data": {
      "image/png": "[encoded data removed]",
      "text/plain": [
       "<Figure size 936x936 with 2 Axes>"
      ]
     },
     "metadata": {
      "needs_background": "light"
     },
     "output_type": "display_data"
    }
   ],
   "source": [
    "import seaborn as sns\n",
    "import matplotlib.pyplot as plt\n",
    "colormap=plt.cm.RdBu\n",
    "plt.figure(figsize=(13,13))\n",
    "sns.heatmap(data1.corr(),linewidths=0.1,square=True,cmap=colormap,linecolor='white',annot=True)"
   ]
  },
  {
   "cell_type": "code",
   "execution_count": 30,
   "metadata": {},
   "outputs": [],
   "source": [
    "train_x=data1[~data1['Delivery_Time'].isnull()]\n",
    "train_y=train_x['Delivery_Time']\n",
    "test_x=data1[data1['Delivery_Time'].isnull()]\n",
    "\n",
    "del train_x['Delivery_Time']\n",
    "del test_x['Delivery_Time']"
   ]
  },
  {
   "cell_type": "code",
   "execution_count": 31,
   "metadata": {},
   "outputs": [],
   "source": [
    "from sklearn.model_selection import train_test_split\n",
    "X_train, X_valid, y_train, y_valid = train_test_split(train_x, train_y, test_size = 0.2, random_state = 18121995, stratify=train_y)"
   ]
  },
  {
   "cell_type": "code",
   "execution_count": 32,
   "metadata": {},
   "outputs": [],
   "source": [
    "categorical_features_indices=np.where(X_train.dtypes =='object')[0]"
   ]
  },
  {
   "cell_type": "code",
   "execution_count": 33,
   "metadata": {},
   "outputs": [
    {
     "data": {
      "text/plain": [
       "array([0, 1, 2, 3, 4, 5, 6, 7, 8], dtype=int64)"
      ]
     },
     "execution_count": 33,
     "metadata": {},
     "output_type": "execute_result"
    }
   ],
   "source": [
    "categorical_features_indices"
   ]
  },
  {
   "cell_type": "code",
   "execution_count": 34,
   "metadata": {},
   "outputs": [],
   "source": [
    "import catboost\n",
    "def make_classifier():\n",
    "    model = catboost.CatBoostClassifier(\n",
    "        iterations=30000,\n",
    "        random_state=18121995,\n",
    "        learning_rate=0.01,\n",
    "        loss_function='MultiClass',\n",
    "        early_stopping_rounds=200,\n",
    "    )\n",
    "    return model"
   ]
  },
  {
   "cell_type": "code",
   "execution_count": 35,
   "metadata": {},
   "outputs": [],
   "source": [
    "import os, sys, datetime\n",
    "from time import time\n",
    "import catboost\n",
    "from sklearn.model_selection import StratifiedKFold"
   ]
  },
  {
   "cell_type": "code",
   "execution_count": 37,
   "metadata": {
    "scrolled": true
   },
   "outputs": [
    {
     "name": "stdout",
     "output_type": "stream",
     "text": [
      "Fold: 1\n",
      "0:\tlearn: 1.9176248\ttest: 1.9173789\tbest: 1.9173789 (0)\ttotal: 147ms\tremaining: 1h 13m 37s\n",
      "500:\tlearn: 0.5984995\ttest: 0.5300972\tbest: 0.5300972 (500)\ttotal: 3m 7s\tremaining: 3h 4m 16s\n",
      "1000:\tlearn: 0.5601128\ttest: 0.5102609\tbest: 0.5102609 (1000)\ttotal: 7m 9s\tremaining: 3h 27m 14s\n",
      "1500:\tlearn: 0.5327042\ttest: 0.5023658\tbest: 0.5023605 (1496)\ttotal: 11m 7s\tremaining: 3h 31m 19s\n",
      "2000:\tlearn: 0.5101975\ttest: 0.4987717\tbest: 0.4987632 (1998)\ttotal: 15m 9s\tremaining: 3h 32m 11s\n",
      "2500:\tlearn: 0.4909334\ttest: 0.4968038\tbest: 0.4968038 (2500)\ttotal: 19m 15s\tremaining: 3h 31m 49s\n",
      "3000:\tlearn: 0.4723624\ttest: 0.4952326\tbest: 0.4951914 (2980)\ttotal: 23m 23s\tremaining: 3h 30m 29s\n",
      "Stopped by overfitting detector  (200 iterations wait)\n",
      "\n",
      "bestTest = 0.4946072567\n",
      "bestIteration = 3226\n",
      "\n",
      "\n",
      "\n",
      "Fold: 2\n",
      "0:\tlearn: 1.9177433\ttest: 1.9173239\tbest: 1.9173239 (0)\ttotal: 153ms\tremaining: 1h 16m 37s\n",
      "500:\tlearn: 0.6044606\ttest: 0.5006136\tbest: 0.5006136 (500)\ttotal: 3m 23s\tremaining: 3h 19m 54s\n",
      "1000:\tlearn: 0.5677495\ttest: 0.4825204\tbest: 0.4825204 (1000)\ttotal: 7m 18s\tremaining: 3h 31m 42s\n",
      "1500:\tlearn: 0.5418755\ttest: 0.4761665\tbest: 0.4761665 (1500)\ttotal: 11m 21s\tremaining: 3h 35m 48s\n",
      "2000:\tlearn: 0.5204009\ttest: 0.4725799\tbest: 0.4725799 (2000)\ttotal: 15m 23s\tremaining: 3h 35m 23s\n",
      "2500:\tlearn: 0.5016922\ttest: 0.4703767\tbest: 0.4703618 (2497)\ttotal: 19m 30s\tremaining: 3h 34m 34s\n",
      "3000:\tlearn: 0.4843483\ttest: 0.4682891\tbest: 0.4682891 (3000)\ttotal: 23m 34s\tremaining: 3h 32m 8s\n",
      "3500:\tlearn: 0.4677874\ttest: 0.4670340\tbest: 0.4669981 (3476)\ttotal: 27m 37s\tremaining: 3h 29m 5s\n",
      "4000:\tlearn: 0.4531667\ttest: 0.4663386\tbest: 0.4663133 (3994)\ttotal: 31m 28s\tremaining: 3h 24m 31s\n",
      "4500:\tlearn: 0.4388667\ttest: 0.4657263\tbest: 0.4657146 (4400)\ttotal: 35m 21s\tremaining: 3h 20m 17s\n",
      "5000:\tlearn: 0.4253426\ttest: 0.4648929\tbest: 0.4648843 (4984)\ttotal: 39m 15s\tremaining: 3h 16m 14s\n",
      "5500:\tlearn: 0.4125321\ttest: 0.4645606\tbest: 0.4645158 (5484)\ttotal: 43m 26s\tremaining: 3h 13m 30s\n",
      "6000:\tlearn: 0.4007441\ttest: 0.4643968\tbest: 0.4642840 (5837)\ttotal: 47m 39s\tremaining: 3h 10m 35s\n",
      "Stopped by overfitting detector  (200 iterations wait)\n",
      "\n",
      "bestTest = 0.464283955\n",
      "bestIteration = 5837\n",
      "\n",
      "\n",
      "\n",
      "Fold: 3\n",
      "0:\tlearn: 1.9174091\ttest: 1.9176447\tbest: 1.9176447 (0)\ttotal: 372ms\tremaining: 3h 6m 11s\n",
      "500:\tlearn: 0.5988192\ttest: 0.5256473\tbest: 0.5256473 (500)\ttotal: 3m\tremaining: 2h 57m 31s\n",
      "1000:\tlearn: 0.5615972\ttest: 0.5061161\tbest: 0.5061161 (1000)\ttotal: 6m 49s\tremaining: 3h 17m 45s\n",
      "1500:\tlearn: 0.5342540\ttest: 0.4990140\tbest: 0.4990140 (1500)\ttotal: 11m 3s\tremaining: 3h 30m 6s\n",
      "2000:\tlearn: 0.5126245\ttest: 0.4951268\tbest: 0.4951268 (2000)\ttotal: 15m 27s\tremaining: 3h 36m 24s\n",
      "2500:\tlearn: 0.4933519\ttest: 0.4930643\tbest: 0.4930421 (2495)\ttotal: 19m 25s\tremaining: 3h 33m 37s\n",
      "3000:\tlearn: 0.4751732\ttest: 0.4913157\tbest: 0.4913157 (3000)\ttotal: 23m 19s\tremaining: 3h 29m 47s\n",
      "3500:\tlearn: 0.4590277\ttest: 0.4902831\tbest: 0.4902810 (3499)\ttotal: 27m 25s\tremaining: 3h 27m 32s\n",
      "4000:\tlearn: 0.4437046\ttest: 0.4895362\tbest: 0.4895358 (3999)\ttotal: 31m 25s\tremaining: 3h 24m 9s\n",
      "4500:\tlearn: 0.4300391\ttest: 0.4893468\tbest: 0.4893158 (4486)\ttotal: 35m 23s\tremaining: 3h 20m 27s\n",
      "Stopped by overfitting detector  (200 iterations wait)\n",
      "\n",
      "bestTest = 0.4892921009\n",
      "bestIteration = 4589\n",
      "\n",
      "\n",
      "\n",
      "Fold: 4\n",
      "0:\tlearn: 1.9169150\ttest: 1.9174116\tbest: 1.9174116 (0)\ttotal: 449ms\tremaining: 3h 44m 29s\n",
      "500:\tlearn: 0.5965390\ttest: 0.5405413\tbest: 0.5405413 (500)\ttotal: 2m 52s\tremaining: 2h 49m 29s\n",
      "1000:\tlearn: 0.5587186\ttest: 0.5219133\tbest: 0.5219133 (1000)\ttotal: 6m 39s\tremaining: 3h 13m 4s\n",
      "1500:\tlearn: 0.5308082\ttest: 0.5151826\tbest: 0.5151826 (1500)\ttotal: 10m 43s\tremaining: 3h 23m 40s\n",
      "2000:\tlearn: 0.5088334\ttest: 0.5115798\tbest: 0.5115653 (1999)\ttotal: 14m 52s\tremaining: 3h 28m 7s\n",
      "2500:\tlearn: 0.4897224\ttest: 0.5089772\tbest: 0.5089772 (2500)\ttotal: 19m 18s\tremaining: 3h 32m 20s\n",
      "3000:\tlearn: 0.4726048\ttest: 0.5072058\tbest: 0.5072038 (2999)\ttotal: 23m 43s\tremaining: 3h 33m 28s\n",
      "3500:\tlearn: 0.4562833\ttest: 0.5057982\tbest: 0.5057945 (3498)\ttotal: 27m 45s\tremaining: 3h 30m 5s\n",
      "4000:\tlearn: 0.4410943\ttest: 0.5048752\tbest: 0.5048703 (3999)\ttotal: 31m 37s\tremaining: 3h 25m 27s\n",
      "4500:\tlearn: 0.4270040\ttest: 0.5043357\tbest: 0.5043026 (4454)\ttotal: 35m 54s\tremaining: 3h 23m 26s\n",
      "5000:\tlearn: 0.4134716\ttest: 0.5037303\tbest: 0.5036556 (4905)\ttotal: 40m 24s\tremaining: 3h 22m 1s\n",
      "5500:\tlearn: 0.4005324\ttest: 0.5033061\tbest: 0.5033005 (5492)\ttotal: 44m 24s\tremaining: 3h 17m 46s\n",
      "Stopped by overfitting detector  (200 iterations wait)\n",
      "\n",
      "bestTest = 0.5028165909\n",
      "bestIteration = 5763\n",
      "\n",
      "\n",
      "\n",
      "finished in 2:41:19.561707\n"
     ]
    }
   ],
   "source": [
    "start_time=time()\n",
    "NFOLDS = 4\n",
    "folds = StratifiedKFold(n_splits=NFOLDS, shuffle=True, random_state=18121995)\n",
    "models=[]\n",
    "scores=[]\n",
    "for fold,(train_ids,test_ids) in enumerate(folds.split(train_x,train_y)):\n",
    "    print('Fold:',fold+1)\n",
    "    model=make_classifier()\n",
    "    model.fit(train_x.loc[train_ids], train_y.loc[train_ids], \n",
    "              eval_set=(train_x.loc[test_ids], train_y.loc[test_ids]),\n",
    "              use_best_model=False,\n",
    "              verbose=500,\n",
    "              cat_features=categorical_features_indices)    \n",
    "    \n",
    "    print('\\n')\n",
    "    \n",
    "print('finished in {}'.format( \n",
    "    str(datetime.timedelta(seconds=time() - start_time))))"
   ]
  },
  {
   "cell_type": "code",
   "execution_count": 38,
   "metadata": {},
   "outputs": [
    {
     "ename": "ValueError",
     "evalue": "need at least one array to concatenate",
     "output_type": "error",
     "traceback": [
      "\u001b[1;31m---------------------------------------------------------------------------\u001b[0m",
      "\u001b[1;31mValueError\u001b[0m                                Traceback (most recent call last)",
      "\u001b[1;32m<ipython-input-38-ad7bd104ee12>\u001b[0m in \u001b[0;36m<module>\u001b[1;34m\u001b[0m\n\u001b[0;32m      3\u001b[0m \u001b[1;32mfor\u001b[0m \u001b[0mmodel\u001b[0m \u001b[1;32min\u001b[0m \u001b[0mmodels\u001b[0m\u001b[1;33m:\u001b[0m\u001b[1;33m\u001b[0m\u001b[1;33m\u001b[0m\u001b[0m\n\u001b[0;32m      4\u001b[0m     \u001b[0mpredictions\u001b[0m\u001b[1;33m.\u001b[0m\u001b[0mappend\u001b[0m\u001b[1;33m(\u001b[0m\u001b[0mmodel\u001b[0m\u001b[1;33m.\u001b[0m\u001b[0mpredict\u001b[0m\u001b[1;33m(\u001b[0m\u001b[0mtrain_x\u001b[0m\u001b[1;33m)\u001b[0m\u001b[1;33m.\u001b[0m\u001b[0mastype\u001b[0m\u001b[1;33m(\u001b[0m\u001b[0mint\u001b[0m\u001b[1;33m)\u001b[0m\u001b[1;33m)\u001b[0m\u001b[1;33m\u001b[0m\u001b[1;33m\u001b[0m\u001b[0m\n\u001b[1;32m----> 5\u001b[1;33m \u001b[0mpredictions\u001b[0m\u001b[1;33m=\u001b[0m\u001b[0mnp\u001b[0m\u001b[1;33m.\u001b[0m\u001b[0mconcatenate\u001b[0m\u001b[1;33m(\u001b[0m\u001b[0mpredictions\u001b[0m\u001b[1;33m,\u001b[0m\u001b[0maxis\u001b[0m\u001b[1;33m=\u001b[0m\u001b[1;36m1\u001b[0m\u001b[1;33m)\u001b[0m\u001b[1;33m\u001b[0m\u001b[1;33m\u001b[0m\u001b[0m\n\u001b[0m\u001b[0;32m      6\u001b[0m \u001b[0mdf\u001b[0m\u001b[1;33m=\u001b[0m\u001b[0mpd\u001b[0m\u001b[1;33m.\u001b[0m\u001b[0mDataFrame\u001b[0m\u001b[1;33m(\u001b[0m\u001b[0mpredictions\u001b[0m\u001b[1;33m)\u001b[0m\u001b[1;33m\u001b[0m\u001b[1;33m\u001b[0m\u001b[0m\n\u001b[0;32m      7\u001b[0m \u001b[0mvote\u001b[0m\u001b[1;33m=\u001b[0m\u001b[0mstats\u001b[0m\u001b[1;33m.\u001b[0m\u001b[0mmode\u001b[0m\u001b[1;33m(\u001b[0m\u001b[0mpredictions\u001b[0m\u001b[1;33m,\u001b[0m\u001b[0maxis\u001b[0m\u001b[1;33m=\u001b[0m\u001b[1;36m1\u001b[0m\u001b[1;33m)\u001b[0m\u001b[1;33m[\u001b[0m\u001b[1;36m0\u001b[0m\u001b[1;33m]\u001b[0m\u001b[1;33m.\u001b[0m\u001b[0mreshape\u001b[0m\u001b[1;33m[\u001b[0m\u001b[1;33m-\u001b[0m\u001b[1;36m1\u001b[0m\u001b[1;33m]\u001b[0m\u001b[1;33m\u001b[0m\u001b[1;33m\u001b[0m\u001b[0m\n",
      "\u001b[1;32m<__array_function__ internals>\u001b[0m in \u001b[0;36mconcatenate\u001b[1;34m(*args, **kwargs)\u001b[0m\n",
      "\u001b[1;31mValueError\u001b[0m: need at least one array to concatenate"
     ]
    }
   ],
   "source": [
    "from scipy import stats\n",
    "predictions=[]\n",
    "for model in models:\n",
    "    predictions.append(model.predict(train_x).astype(int))\n",
    "predictions=np.concatenate(predictions,axis=1)\n",
    "df=pd.DataFrame(predictions)\n",
    "vote=stats.mode(predictions,axis=1)[0].reshape[-1]\n",
    "df['vote']=vote\n",
    "df['y']=train_y\n",
    "df"
   ]
  },
  {
   "cell_type": "code",
   "execution_count": null,
   "metadata": {},
   "outputs": [],
   "source": [
    "predictions = []\n",
    "for model in models:\n",
    "    predictions.append(model.predict(test_x))\n",
    "predictions = np.concatenate(predictions, axis=1)\n",
    "# Voting\n",
    "predictions = stats.mode(predictions, axis=1)[0].reshape(-1)\n",
    "print(predictions.shape)"
   ]
  },
  {
   "cell_type": "code",
   "execution_count": null,
   "metadata": {},
   "outputs": [],
   "source": [
    "a=pd.DataFrame()\n",
    "# predcb=predcb.astype(int)\n",
    "# predcb=predcb.flatten()\n",
    "a['Delivery_Time']=np.round(predictions).astype('int')\n",
    "a['Delivery_Time'] = a['Delivery_Time'].replace({30:'30 minutes', 45:'45 minutes', 65:'65 minutes', 120:'120 minutes', 20:'20 minutes', 80:'80 minutes', 10:'10 minutes'})\n",
    "a.to_excel('cb_all_cat_1.0.xlsx', index=False)"
   ]
  },
  {
   "cell_type": "raw",
   "metadata": {},
   "source": [
    "sorted(zip(model.feature_importances_,train_x),reverse=True)\n"
   ]
  },
  {
   "cell_type": "code",
   "execution_count": null,
   "metadata": {},
   "outputs": [],
   "source": [
    "import matplotlib.pyplot as plt\n",
    "feat_importances=pd.Series(model.feature_importances_,index=train_x.columns)\n",
    "feat_importances.nsmallest(1000).plot(kind='barh')\n",
    "plt.show()\n"
   ]
  },
  {
   "cell_type": "code",
   "execution_count": null,
   "metadata": {},
   "outputs": [],
   "source": []
  }
 ],
 "metadata": {
  "kernelspec": {
   "display_name": "Python 3",
   "language": "python",
   "name": "python3"
  },
  "language_info": {
   "codemirror_mode": {
    "name": "ipython",
    "version": 3
   },
   "file_extension": ".py",
   "mimetype": "text/x-python",
   "name": "python",
   "nbconvert_exporter": "python",
   "pygments_lexer": "ipython3",
   "version": "3.7.7"
  }
 },
 "nbformat": 4,
 "nbformat_minor": 4
}
